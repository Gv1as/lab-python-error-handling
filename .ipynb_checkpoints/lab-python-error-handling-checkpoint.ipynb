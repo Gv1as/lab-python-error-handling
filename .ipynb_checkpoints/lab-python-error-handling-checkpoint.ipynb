{
 "cells": [
  {
   "cell_type": "markdown",
   "id": "25d7736c-ba17-4aff-b6bb-66eba20fbf4e",
   "metadata": {},
   "source": [
    "# Lab | Error Handling"
   ]
  },
  {
   "cell_type": "markdown",
   "id": "bc99b386-7508-47a0-bcdb-d969deaf6c8b",
   "metadata": {},
   "source": [
    "## Exercise: Error Handling for Managing Customer Orders\n",
    "\n",
    "The implementation of your code for managing customer orders assumes that the user will always enter a valid input. \n",
    "\n",
    "For example, we could modify the `initialize_inventory` function to include error handling.\n",
    "   - If the user enters an invalid quantity (e.g., a negative value or a non-numeric value), display an error message and ask them to re-enter the quantity for that product.\n",
    "   - Use a try-except block to handle the error and continue prompting the user until a valid quantity is entered.\n",
    "\n",
    "```python\n",
    "# Step 1: Define the function for initializing the inventory with error handling\n",
    "def initialize_inventory(products):\n",
    "    inventory = {}\n",
    "    for product in products:\n",
    "        valid_quantity = False\n",
    "        while not valid_quantity:\n",
    "            try:\n",
    "                quantity = int(input(f\"Enter the quantity of {product}s available: \"))\n",
    "                if quantity < 0:\n",
    "                    raise ValueError(\"Invalid quantity! Please enter a non-negative value.\")\n",
    "                valid_quantity = True\n",
    "            except ValueError as error:\n",
    "                print(f\"Error: {error}\")\n",
    "        inventory[product] = quantity\n",
    "    return inventory\n",
    "\n",
    "# Or, in another way:\n",
    "\n",
    "def initialize_inventory(products):\n",
    "    inventory = {}\n",
    "    for product in products:\n",
    "        valid_input = False\n",
    "        while not valid_input:\n",
    "            try:\n",
    "                quantity = int(input(f\"Enter the quantity of {product}s available: \"))\n",
    "                if quantity >= 0:\n",
    "                    inventory[product] = quantity\n",
    "                    valid_input = True\n",
    "                else:\n",
    "                    print(\"Quantity cannot be negative. Please enter a valid quantity.\")\n",
    "            except ValueError:\n",
    "                print(\"Invalid input. Please enter a valid quantity.\")\n",
    "    return inventory\n",
    "```\n",
    "\n",
    "Let's enhance your code by implementing error handling to handle invalid inputs.\n",
    "\n",
    "Follow the steps below to complete the exercise:\n",
    "\n",
    "2. Modify the `calculate_total_price` function to include error handling.\n",
    "   - If the user enters an invalid price (e.g., a negative value or a non-numeric value), display an error message and ask them to re-enter the price for that product.\n",
    "   - Use a try-except block to handle the error and continue prompting the user until a valid price is entered.\n",
    "\n",
    "3. Modify the `get_customer_orders` function to include error handling.\n",
    "   - If the user enters an invalid number of orders (e.g., a negative value or a non-numeric value), display an error message and ask them to re-enter the number of orders.\n",
    "   - If the user enters an invalid product name (e.g., a product name that is not in the inventory), or that doesn't have stock available, display an error message and ask them to re-enter the product name. *Hint: you will need to pass inventory as a parameter*\n",
    "   - Use a try-except block to handle the error and continue prompting the user until a valid product name is entered.\n",
    "\n",
    "4. Test your code by running the program and deliberately entering invalid quantities and product names. Make sure the error handling mechanism works as expected.\n"
   ]
  },
  {
   "cell_type": "code",
   "execution_count": 1,
   "id": "6de76490-3cbd-48d2-9fcf-2690fe51b7d5",
   "metadata": {},
   "outputs": [],
   "source": [
    "def initialize_inventory(products):\n",
    "    inventory = {}\n",
    "    for i in products:\n",
    "        while True:\n",
    "            quantity = input(f\"Please enter the inventory of {i}: \")\n",
    "            try:\n",
    "                quantity = int(quantity)\n",
    "                if quantity < 0:\n",
    "                   raise ValueError\n",
    "                break\n",
    "                \n",
    "            except ValueError:\n",
    "                print(\"Please enter a positive integer\")\n",
    "    \n",
    "        inventory[i] = quantity\n",
    "    return inventory\n",
    "    \n",
    "products = [\"t-shirt\", \"mug\", \"hat\", \"book\", \"keychain\"]"
   ]
  },
  {
   "cell_type": "code",
   "execution_count": 2,
   "id": "05ae5673-1a0f-4376-9d42-0965daacf032",
   "metadata": {},
   "outputs": [],
   "source": [
    "#inventory = initialize_inventory(products)"
   ]
  },
  {
   "cell_type": "code",
   "execution_count": 3,
   "id": "35fdd6f6-ec28-4964-9560-b111338353f1",
   "metadata": {},
   "outputs": [],
   "source": [
    "def get_customer_orders():\n",
    "    products_check = [item for item in inventory.keys()]\n",
    "    customer_orders = []\n",
    "    while True:\n",
    "        amount = input(\"Enter the number of customer orders:  \")\n",
    "        try:\n",
    "            amount = int(amount)\n",
    "            if amount > 5:\n",
    "                print(\"You can only order up to 1 unit per article. please enter a number not greater than 5: \")\n",
    "                continue\n",
    "            elif amount < 0:\n",
    "                print(\"Please enter a positive integer.\")\n",
    "                continue\n",
    "            break\n",
    "        except ValueError:\n",
    "            print(\"Please enter an integer number \")   \n",
    "\n",
    "    for i in range(amount):\n",
    "        while True:\n",
    "            try:\n",
    "                product = input(f\"What would you like to order? {products_check} \").lower()\n",
    "                if product in products_check:\n",
    "                    customer_orders.append(product)\n",
    "                    products_check.remove(product)\n",
    "                    break\n",
    "                print(\"Please choose an item from the available inventory that you haven't ordered yet.\")\n",
    "            except Exception as e:\n",
    "                print(\"Error:\", e)\n",
    "                \n",
    "    return customer_orders\n",
    "\n",
    "#customer_orders = get_customer_orders()"
   ]
  },
  {
   "cell_type": "code",
   "execution_count": 4,
   "id": "647cc18e-5f99-4813-928b-56fdc48f5032",
   "metadata": {},
   "outputs": [],
   "source": [
    "def update_inventory(customer_orders, inventory):\n",
    "    for item in customer_orders:\n",
    "        if item in inventory and inventory[item] >= 0:\n",
    "            inventory[item] -= 1     \n",
    "    inventory = {item: quantity for item, quantity in inventory.items() if quantity > 0}\n",
    "    return inventory"
   ]
  },
  {
   "cell_type": "code",
   "execution_count": 7,
   "id": "8435e827-9c6e-41f2-b090-5fe3718528ae",
   "metadata": {},
   "outputs": [],
   "source": [
    "def calculate_price(orders):\n",
    "    price = {}\n",
    "    for item in orders:\n",
    "        while True:\n",
    "            try:\n",
    "                price_input = input(f\"Please enter the price for {item}: \")\n",
    "                price[item] = int(price_input)\n",
    "                if price[item] < 0:\n",
    "                    print(\"Please enter a positive integer\")\n",
    "                else:\n",
    "                    break  # Exit the loop after obtaining a valid price\n",
    "            except ValueError as e:\n",
    "                print(e)\n",
    "\n",
    "    return sum(price.values())\n"
   ]
  },
  {
   "cell_type": "code",
   "execution_count": 8,
   "id": "f2d439b9-dfad-42b3-a2ff-5bd4ba396054",
   "metadata": {},
   "outputs": [
    {
     "name": "stdin",
     "output_type": "stream",
     "text": [
      "Please enter the inventory of t-shirt:  2\n",
      "Please enter the inventory of mug:  2\n",
      "Please enter the inventory of hat:  2\n",
      "Please enter the inventory of book:  2\n",
      "Please enter the inventory of keychain:  2\n",
      "Enter the number of customer orders:   2\n",
      "What would you like to order? ['t-shirt', 'mug', 'hat', 'book', 'keychain']  book\n",
      "What would you like to order? ['t-shirt', 'mug', 'hat', 'keychain']  hat\n",
      "Please enter the price for book:  4\n",
      "Please enter the price for hat:  5\n"
     ]
    },
    {
     "name": "stdout",
     "output_type": "stream",
     "text": [
      "Order statistisc: 2\n",
      "Percentage of Unique Products Ordered: 40.0\n",
      "Updated Inventory:\n",
      "t-shirt: 2\n",
      "mug: 2\n",
      "hat: 1\n",
      "book: 1\n",
      "keychain: 2\n",
      "Total price: 9\n"
     ]
    }
   ],
   "source": [
    "inventory = initialize_inventory(products)\n",
    "customer_orders = get_customer_orders()\n",
    "total_price = calculate_price(customer_orders)\n",
    "inventory = update_inventory(customer_orders, inventory)\n",
    "\n",
    "print(f\"Order statistisc: {len(customer_orders)}\")\n",
    "print(f\"Percentage of Unique Products Ordered: {round((len(customer_orders)/len(inventory.keys())*100), 2)}\")\n",
    "print(\"Updated Inventory:\")\n",
    "print('\\n'.join([f\"{item}: {quantity}\" for item, quantity in inventory.items()]))\n",
    "print(f\"Total price: {total_price}\")"
   ]
  },
  {
   "cell_type": "markdown",
   "id": "43874bfb-be1c-4616-a4bf-b5b8369334d0",
   "metadata": {},
   "source": []
  }
 ],
 "metadata": {
  "kernelspec": {
   "display_name": "Python 3 (ipykernel)",
   "language": "python",
   "name": "python3"
  },
  "language_info": {
   "codemirror_mode": {
    "name": "ipython",
    "version": 3
   },
   "file_extension": ".py",
   "mimetype": "text/x-python",
   "name": "python",
   "nbconvert_exporter": "python",
   "pygments_lexer": "ipython3",
   "version": "3.8.18"
  }
 },
 "nbformat": 4,
 "nbformat_minor": 5
}
